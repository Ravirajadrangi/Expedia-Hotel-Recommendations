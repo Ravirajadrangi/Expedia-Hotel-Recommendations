{
 "cells": [
  {
   "cell_type": "markdown",
   "metadata": {},
   "source": [
    "## Kaggle Expedia Contest Trial For BOUN SWE 546 Class\n",
    "\n",
    "The [Expedia Hotel Recommendations](https://www.kaggle.com/c/expedia-hotel-recommendations/data) is a Kaggle Competition that started at 15 April 2016. Expedia wants Kaggle users to contextualize customer data and predict the likelihood a user will stay at 100 different hotel groups.\n",
    "\n",
    "### Starting With Loading Required Libraries\n"
   ]
  },
  {
   "cell_type": "code",
   "execution_count": 13,
   "metadata": {
    "collapsed": false
   },
   "outputs": [],
   "source": [
    "%matplotlib inline\n",
    "\n",
    "import csv\n",
    "import time\n",
    "from collections import Counter\n",
    "\n",
    "import pandas as pd\n",
    "import numpy as np\n",
    "import matplotlib\n",
    "import matplotlib.pyplot as plt\n",
    "\n",
    "import seaborn"
   ]
  },
  {
   "cell_type": "markdown",
   "metadata": {},
   "source": [
    "### How many lines present in the file"
   ]
  },
  {
   "cell_type": "code",
   "execution_count": 35,
   "metadata": {
    "collapsed": false
   },
   "outputs": [
    {
     "name": "stdout",
     "output_type": "stream",
     "text": [
      "Number of Lines:  37670294\n"
     ]
    }
   ],
   "source": [
    "num_lines = sum(1 for line in open('train.csv'))\n",
    "print(\"Number of Lines: \", num_lines)"
   ]
  },
  {
   "cell_type": "markdown",
   "metadata": {},
   "source": [
    "### Loading Training File\n",
    "\n",
    "Preparing Training data file (\"*train.csv*\") to read by chunks of 2 million records."
   ]
  },
  {
   "cell_type": "code",
   "execution_count": 36,
   "metadata": {
    "collapsed": false
   },
   "outputs": [
    {
     "name": "stdout",
     "output_type": "stream",
     "text": [
      "-\n"
     ]
    }
   ],
   "source": [
    "train = pd.read_csv('train.csv',\n",
    "                    dtype={'is_booking':bool,'srch_destination_id':np.int32, 'hotel_cluster':np.int32},\n",
    "                    usecols=['srch_destination_id','is_booking','hotel_cluster','user_id','is_mobile'\n",
    "                             ,'user_location_country','user_location_region','user_location_city'\n",
    "                             ,'srch_destination_type_id','hotel_continent','hotel_country','hotel_market'],\n",
    "                    chunksize=2000000)\n"
   ]
  },
  {
   "cell_type": "markdown",
   "metadata": {},
   "source": [
    "Aggregating Search Destinations, Hotel Clusters and Users and booking combinations. "
   ]
  },
  {
   "cell_type": "code",
   "execution_count": 37,
   "metadata": {
    "collapsed": false
   },
   "outputs": [
    {
     "name": "stdout",
     "output_type": "stream",
     "text": [
      "....\n"
     ]
    },
    {
     "data": {
      "text/html": [
       "<div>\n",
       "<table border=\"1\" class=\"dataframe\">\n",
       "  <thead>\n",
       "    <tr style=\"text-align: right;\">\n",
       "      <th></th>\n",
       "      <th>srch_destination_id</th>\n",
       "      <th>hotel_cluster</th>\n",
       "      <th>user_id</th>\n",
       "      <th>sum</th>\n",
       "      <th>count</th>\n",
       "    </tr>\n",
       "  </thead>\n",
       "  <tbody>\n",
       "    <tr>\n",
       "      <th>0</th>\n",
       "      <td>1</td>\n",
       "      <td>20</td>\n",
       "      <td>474090</td>\n",
       "      <td>0</td>\n",
       "      <td>2</td>\n",
       "    </tr>\n",
       "    <tr>\n",
       "      <th>1</th>\n",
       "      <td>1</td>\n",
       "      <td>20</td>\n",
       "      <td>732251</td>\n",
       "      <td>1</td>\n",
       "      <td>2</td>\n",
       "    </tr>\n",
       "    <tr>\n",
       "      <th>2</th>\n",
       "      <td>1</td>\n",
       "      <td>30</td>\n",
       "      <td>474090</td>\n",
       "      <td>0</td>\n",
       "      <td>1</td>\n",
       "    </tr>\n",
       "    <tr>\n",
       "      <th>3</th>\n",
       "      <td>1</td>\n",
       "      <td>60</td>\n",
       "      <td>474090</td>\n",
       "      <td>0</td>\n",
       "      <td>2</td>\n",
       "    </tr>\n",
       "    <tr>\n",
       "      <th>4</th>\n",
       "      <td>3</td>\n",
       "      <td>53</td>\n",
       "      <td>304986</td>\n",
       "      <td>0</td>\n",
       "      <td>2</td>\n",
       "    </tr>\n",
       "  </tbody>\n",
       "</table>\n",
       "</div>"
      ],
      "text/plain": [
       "   srch_destination_id  hotel_cluster  user_id  sum  count\n",
       "0                    1             20   474090    0      2\n",
       "1                    1             20   732251    1      2\n",
       "2                    1             30   474090    0      1\n",
       "3                    1             60   474090    0      2\n",
       "4                    3             53   304986    0      2"
      ]
     },
     "execution_count": 37,
     "metadata": {},
     "output_type": "execute_result"
    }
   ],
   "source": [
    "aggs = []\n",
    "\n",
    "for chunk in train:\n",
    "    agg = chunk.groupby(['srch_destination_id','hotel_cluster','user_id'])['is_booking'].agg(['sum','count'])\n",
    "    agg.reset_index(inplace=True)\n",
    "    aggs.append(agg)\n",
    "    print('.',end='')\n",
    "print('')\n",
    "aggs = pd.concat(aggs, axis=0)\n",
    "aggs.head()"
   ]
  },
  {
   "cell_type": "code",
   "execution_count": 38,
   "metadata": {
    "collapsed": false
   },
   "outputs": [
    {
     "data": {
      "text/html": [
       "<div>\n",
       "<table border=\"1\" class=\"dataframe\">\n",
       "  <thead>\n",
       "    <tr style=\"text-align: right;\">\n",
       "      <th></th>\n",
       "      <th>count</th>\n",
       "      <th>mean</th>\n",
       "      <th>std</th>\n",
       "      <th>min</th>\n",
       "      <th>25%</th>\n",
       "      <th>50%</th>\n",
       "      <th>75%</th>\n",
       "      <th>max</th>\n",
       "    </tr>\n",
       "  </thead>\n",
       "  <tbody>\n",
       "    <tr>\n",
       "      <th>srch_destination_id</th>\n",
       "      <td>21195421</td>\n",
       "      <td>14888.042327</td>\n",
       "      <td>11393.951687</td>\n",
       "      <td>0</td>\n",
       "      <td>8267</td>\n",
       "      <td>11353</td>\n",
       "      <td>20025</td>\n",
       "      <td>65107</td>\n",
       "    </tr>\n",
       "    <tr>\n",
       "      <th>hotel_cluster</th>\n",
       "      <td>21195421</td>\n",
       "      <td>49.317924</td>\n",
       "      <td>29.035789</td>\n",
       "      <td>0</td>\n",
       "      <td>25</td>\n",
       "      <td>48</td>\n",
       "      <td>73</td>\n",
       "      <td>99</td>\n",
       "    </tr>\n",
       "    <tr>\n",
       "      <th>user_id</th>\n",
       "      <td>21195421</td>\n",
       "      <td>604150.562238</td>\n",
       "      <td>349723.729600</td>\n",
       "      <td>0</td>\n",
       "      <td>300018</td>\n",
       "      <td>603857</td>\n",
       "      <td>908892</td>\n",
       "      <td>1198785</td>\n",
       "    </tr>\n",
       "    <tr>\n",
       "      <th>sum</th>\n",
       "      <td>21195421</td>\n",
       "      <td>0.141573</td>\n",
       "      <td>0.431100</td>\n",
       "      <td>0</td>\n",
       "      <td>0</td>\n",
       "      <td>0</td>\n",
       "      <td>0</td>\n",
       "      <td>69</td>\n",
       "    </tr>\n",
       "    <tr>\n",
       "      <th>count</th>\n",
       "      <td>21195421</td>\n",
       "      <td>1.777284</td>\n",
       "      <td>1.952528</td>\n",
       "      <td>1</td>\n",
       "      <td>1</td>\n",
       "      <td>1</td>\n",
       "      <td>2</td>\n",
       "      <td>233</td>\n",
       "    </tr>\n",
       "  </tbody>\n",
       "</table>\n",
       "</div>"
      ],
      "text/plain": [
       "                        count           mean            std  min     25%  \\\n",
       "srch_destination_id  21195421   14888.042327   11393.951687    0    8267   \n",
       "hotel_cluster        21195421      49.317924      29.035789    0      25   \n",
       "user_id              21195421  604150.562238  349723.729600    0  300018   \n",
       "sum                  21195421       0.141573       0.431100    0       0   \n",
       "count                21195421       1.777284       1.952528    1       1   \n",
       "\n",
       "                        50%     75%      max  \n",
       "srch_destination_id   11353   20025    65107  \n",
       "hotel_cluster            48      73       99  \n",
       "user_id              603857  908892  1198785  \n",
       "sum                       0       0       69  \n",
       "count                     1       2      233  "
      ]
     },
     "execution_count": 38,
     "metadata": {},
     "output_type": "execute_result"
    }
   ],
   "source": [
    "aggs.describe().transpose()"
   ]
  }
 ],
 "metadata": {
  "kernelspec": {
   "display_name": "Python 3",
   "language": "python",
   "name": "python3"
  },
  "language_info": {
   "codemirror_mode": {
    "name": "ipython",
    "version": 3
   },
   "file_extension": ".py",
   "mimetype": "text/x-python",
   "name": "python",
   "nbconvert_exporter": "python",
   "pygments_lexer": "ipython3",
   "version": "3.5.1"
  }
 },
 "nbformat": 4,
 "nbformat_minor": 0
}
